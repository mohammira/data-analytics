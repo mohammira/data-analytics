{
 "cells": [
  {
   "cell_type": "code",
   "execution_count": null,
   "id": "3d4b5ee6",
   "metadata": {
    "scrolled": true
   },
   "outputs": [],
   "source": [
    "import pandas as pd\n",
    "\n",
    "raw = pd.read_csv('./data/fatalities_isr_pse_conflict_2000_to_2023.csv')\n",
    "raw"
   ]
  },
  {
   "cell_type": "code",
   "execution_count": null,
   "metadata": {},
   "outputs": [],
   "source": [
    "# get necessary columns, fill all NaN, set columns except age to string type\n",
    "filtered = raw.filter(['age','gender','citizenship','event_location_region',\n",
    "                       'date_of_event','date_of_death','type_of_injury','killed_by'], axis=1)\n",
    "filtered = filtered.fillna(0)\n",
    "filtered[['gender','citizenship','event_location_region','date_of_event',\n",
    "        'date_of_death','type_of_injury','killed_by']] = filtered[['gender','citizenship','event_location_region',\n",
    "        'date_of_event','date_of_death','type_of_injury','killed_by']].astype('string')\n",
    "\n",
    "# create new column \"year_of_death\"\n",
    "years = []\n",
    "for i in range(len(filtered)):\n",
    "    years.append(filtered.iloc[i]['date_of_death'][0:4])\n",
    "filtered['year_of_death'] = pd.Series(years)\n",
    "\n",
    "filtered"
   ]
  },
  {
   "cell_type": "code",
   "execution_count": null,
   "metadata": {},
   "outputs": [],
   "source": [
    "filtered.to_csv('clean_dataset.csv', index=0)"
   ]
  },
  {
   "cell_type": "code",
   "execution_count": null,
   "id": "591c9c45",
   "metadata": {},
   "outputs": [],
   "source": [
    "test = pd.read_csv('./clean_dataset.csv')\n",
    "test"
   ]
  }
 ],
 "metadata": {
  "kernelspec": {
   "display_name": "Python 3 (ipykernel)",
   "language": "python",
   "name": "python3"
  },
  "language_info": {
   "codemirror_mode": {
    "name": "ipython",
    "version": 3
   },
   "file_extension": ".py",
   "mimetype": "text/x-python",
   "name": "python",
   "nbconvert_exporter": "python",
   "pygments_lexer": "ipython3",
   "version": "3.8.8"
  }
 },
 "nbformat": 4,
 "nbformat_minor": 5
}
